{
 "cells": [
  {
   "cell_type": "markdown",
   "id": "84a115f9-be55-4245-b41a-79a032cb4fcb",
   "metadata": {},
   "source": [
    "<p style=\"text-align:center\">\n",
    "    <a href=\"https://skills.network\" target=\"_blank\">\n",
    "    <img src=\"https://cf-courses-data.s3.us.cloud-object-storage.appdomain.cloud/assets/logos/SN_web_lightmode.png\" width=\"200\" alt=\"Skills Network Logo\">\n",
    "    </a>\n",
    "</p>\n"
   ]
  },
  {
   "cell_type": "markdown",
   "id": "120a2e83-259c-4116-abf3-75b4c895b275",
   "metadata": {},
   "source": [
    "# **SpaceX  Falcon 9 First Stage Landing Prediction**\n"
   ]
  },
  {
   "cell_type": "markdown",
   "id": "3faa7618-c4b9-46d1-ac6c-f22eb8273f5c",
   "metadata": {},
   "source": [
    " ## Hands-on Lab: Complete the EDA with Visualization\n"
   ]
  },
  {
   "cell_type": "markdown",
   "id": "fd9435d6-bef0-41e8-a148-9fafb7ebea08",
   "metadata": {},
   "source": [
    "Estimated time needed: **70** minutes\n"
   ]
  },
  {
   "cell_type": "markdown",
   "id": "ce1e7bb3-9d16-4c1a-ac2c-bc658236e178",
   "metadata": {},
   "source": [
    "In this assignment, we will predict if the Falcon 9 first stage will land successfully. SpaceX advertises Falcon 9 rocket launches on its website with a cost of 62 million dollars; other providers cost upward of 165 million dollars each, much of the savings is due to the fact that SpaceX can reuse the first stage. \n",
    "\n",
    "In this lab, you will perform Exploratory Data Analysis and Feature Engineering.\n"
   ]
  },
  {
   "cell_type": "markdown",
   "id": "fbcc624f-8806-4f2c-9f9b-ac517d11ef6a",
   "metadata": {},
   "source": [
    "Falcon 9 first stage will land successfully\n"
   ]
  },
  {
   "cell_type": "markdown",
   "id": "305542be-31ed-4599-b919-a04ba72b6d28",
   "metadata": {},
   "source": [
    "![](https://cf-courses-data.s3.us.cloud-object-storage.appdomain.cloud/IBMDeveloperSkillsNetwork-DS0701EN-SkillsNetwork/api/Images/landing_1.gif)\n"
   ]
  },
  {
   "cell_type": "markdown",
   "id": "ed2f89f2-6870-46c1-a25d-e6256cabc384",
   "metadata": {},
   "source": [
    "Several examples of an unsuccessful landing are shown here:\n"
   ]
  },
  {
   "cell_type": "markdown",
   "id": "2d7c6972-3fcf-4b8e-93f5-1be1a44c0cdf",
   "metadata": {},
   "source": [
    "![](https://cf-courses-data.s3.us.cloud-object-storage.appdomain.cloud/IBMDeveloperSkillsNetwork-DS0701EN-SkillsNetwork/api/Images/crash.gif)\n"
   ]
  },
  {
   "cell_type": "markdown",
   "id": "e052177c-baed-40c2-bcc4-81518e83b412",
   "metadata": {},
   "source": [
    "Most unsuccessful landings are planned. Space X performs a controlled landing in the oceans. \n"
   ]
  },
  {
   "cell_type": "markdown",
   "id": "25dce1e5-b86d-4bc3-8193-f1d53cf66a4b",
   "metadata": {},
   "source": [
    "  ## Objectives\n",
    "Perform exploratory Data Analysis and Feature Engineering using `Pandas` and `Matplotlib`\n",
    "\n",
    "- Exploratory Data Analysis\n",
    "- Preparing Data  Feature Engineering \n"
   ]
  },
  {
   "cell_type": "markdown",
   "id": "833cecb3-2739-4b56-921b-36eec0ad80f0",
   "metadata": {},
   "source": [
    "----\n"
   ]
  },
  {
   "cell_type": "markdown",
   "id": "13460a49-4355-40e8-aebd-4021385d843c",
   "metadata": {},
   "source": [
    "Install the below libraries\n"
   ]
  },
  {
   "cell_type": "code",
   "execution_count": 1,
   "id": "db05b105-c4b1-4be7-9510-fc8eca65e2ed",
   "metadata": {},
   "outputs": [
    {
     "name": "stdout",
     "output_type": "stream",
     "text": [
      "Requirement already satisfied: pandas in ./spacex_coursera.venv/lib/python3.13/site-packages (2.3.2)\n",
      "Requirement already satisfied: numpy>=1.26.0 in ./spacex_coursera.venv/lib/python3.13/site-packages (from pandas) (2.3.2)\n",
      "Requirement already satisfied: python-dateutil>=2.8.2 in ./spacex_coursera.venv/lib/python3.13/site-packages (from pandas) (2.9.0.post0)\n",
      "Requirement already satisfied: pytz>=2020.1 in ./spacex_coursera.venv/lib/python3.13/site-packages (from pandas) (2025.2)\n",
      "Requirement already satisfied: tzdata>=2022.7 in ./spacex_coursera.venv/lib/python3.13/site-packages (from pandas) (2025.2)\n",
      "Requirement already satisfied: six>=1.5 in ./spacex_coursera.venv/lib/python3.13/site-packages (from python-dateutil>=2.8.2->pandas) (1.17.0)\n",
      "Note: you may need to restart the kernel to use updated packages.\n",
      "Requirement already satisfied: numpy in ./spacex_coursera.venv/lib/python3.13/site-packages (2.3.2)\n",
      "Note: you may need to restart the kernel to use updated packages.\n",
      "Collecting seaborn\n",
      "  Using cached seaborn-0.13.2-py3-none-any.whl.metadata (5.4 kB)\n",
      "Requirement already satisfied: numpy!=1.24.0,>=1.20 in ./spacex_coursera.venv/lib/python3.13/site-packages (from seaborn) (2.3.2)\n",
      "Requirement already satisfied: pandas>=1.2 in ./spacex_coursera.venv/lib/python3.13/site-packages (from seaborn) (2.3.2)\n",
      "Collecting matplotlib!=3.6.1,>=3.4 (from seaborn)\n",
      "  Downloading matplotlib-3.10.6-cp313-cp313-macosx_11_0_arm64.whl.metadata (11 kB)\n",
      "Collecting contourpy>=1.0.1 (from matplotlib!=3.6.1,>=3.4->seaborn)\n",
      "  Using cached contourpy-1.3.3-cp313-cp313-macosx_11_0_arm64.whl.metadata (5.5 kB)\n",
      "Collecting cycler>=0.10 (from matplotlib!=3.6.1,>=3.4->seaborn)\n",
      "  Using cached cycler-0.12.1-py3-none-any.whl.metadata (3.8 kB)\n",
      "Collecting fonttools>=4.22.0 (from matplotlib!=3.6.1,>=3.4->seaborn)\n",
      "  Downloading fonttools-4.59.2-cp313-cp313-macosx_10_13_universal2.whl.metadata (109 kB)\n",
      "Collecting kiwisolver>=1.3.1 (from matplotlib!=3.6.1,>=3.4->seaborn)\n",
      "  Using cached kiwisolver-1.4.9-cp313-cp313-macosx_11_0_arm64.whl.metadata (6.3 kB)\n",
      "Requirement already satisfied: packaging>=20.0 in ./spacex_coursera.venv/lib/python3.13/site-packages (from matplotlib!=3.6.1,>=3.4->seaborn) (25.0)\n",
      "Collecting pillow>=8 (from matplotlib!=3.6.1,>=3.4->seaborn)\n",
      "  Using cached pillow-11.3.0-cp313-cp313-macosx_11_0_arm64.whl.metadata (9.0 kB)\n",
      "Collecting pyparsing>=2.3.1 (from matplotlib!=3.6.1,>=3.4->seaborn)\n",
      "  Using cached pyparsing-3.2.3-py3-none-any.whl.metadata (5.0 kB)\n",
      "Requirement already satisfied: python-dateutil>=2.7 in ./spacex_coursera.venv/lib/python3.13/site-packages (from matplotlib!=3.6.1,>=3.4->seaborn) (2.9.0.post0)\n",
      "Requirement already satisfied: pytz>=2020.1 in ./spacex_coursera.venv/lib/python3.13/site-packages (from pandas>=1.2->seaborn) (2025.2)\n",
      "Requirement already satisfied: tzdata>=2022.7 in ./spacex_coursera.venv/lib/python3.13/site-packages (from pandas>=1.2->seaborn) (2025.2)\n",
      "Requirement already satisfied: six>=1.5 in ./spacex_coursera.venv/lib/python3.13/site-packages (from python-dateutil>=2.7->matplotlib!=3.6.1,>=3.4->seaborn) (1.17.0)\n",
      "Using cached seaborn-0.13.2-py3-none-any.whl (294 kB)\n",
      "Downloading matplotlib-3.10.6-cp313-cp313-macosx_11_0_arm64.whl (8.1 MB)\n",
      "\u001b[2K   \u001b[90m━━━━━━━━━━━━━━━━━━━━━━━━━━━━━━━━━━━━━━━━\u001b[0m \u001b[32m8.1/8.1 MB\u001b[0m \u001b[31m42.9 MB/s\u001b[0m  \u001b[33m0:00:00\u001b[0m\n",
      "\u001b[?25hUsing cached contourpy-1.3.3-cp313-cp313-macosx_11_0_arm64.whl (274 kB)\n",
      "Using cached cycler-0.12.1-py3-none-any.whl (8.3 kB)\n",
      "Downloading fonttools-4.59.2-cp313-cp313-macosx_10_13_universal2.whl (2.8 MB)\n",
      "\u001b[2K   \u001b[90m━━━━━━━━━━━━━━━━━━━━━━━━━━━━━━━━━━━━━━━━\u001b[0m \u001b[32m2.8/2.8 MB\u001b[0m \u001b[31m43.7 MB/s\u001b[0m  \u001b[33m0:00:00\u001b[0m\n",
      "\u001b[?25hUsing cached kiwisolver-1.4.9-cp313-cp313-macosx_11_0_arm64.whl (64 kB)\n",
      "Using cached pillow-11.3.0-cp313-cp313-macosx_11_0_arm64.whl (4.7 MB)\n",
      "Using cached pyparsing-3.2.3-py3-none-any.whl (111 kB)\n",
      "Installing collected packages: pyparsing, pillow, kiwisolver, fonttools, cycler, contourpy, matplotlib, seaborn\n",
      "\u001b[2K   \u001b[90m━━━━━━━━━━━━━━━━━━━━━━━━━━━━━━━━━━━━━━━━\u001b[0m \u001b[32m8/8\u001b[0m [seaborn]m6/8\u001b[0m [matplotlib]\n",
      "\u001b[1A\u001b[2KSuccessfully installed contourpy-1.3.3 cycler-0.12.1 fonttools-4.59.2 kiwisolver-1.4.9 matplotlib-3.10.6 pillow-11.3.0 pyparsing-3.2.3 seaborn-0.13.2\n",
      "Note: you may need to restart the kernel to use updated packages.\n",
      "Requirement already satisfied: matplotlib in ./spacex_coursera.venv/lib/python3.13/site-packages (3.10.6)\n",
      "Requirement already satisfied: contourpy>=1.0.1 in ./spacex_coursera.venv/lib/python3.13/site-packages (from matplotlib) (1.3.3)\n",
      "Requirement already satisfied: cycler>=0.10 in ./spacex_coursera.venv/lib/python3.13/site-packages (from matplotlib) (0.12.1)\n",
      "Requirement already satisfied: fonttools>=4.22.0 in ./spacex_coursera.venv/lib/python3.13/site-packages (from matplotlib) (4.59.2)\n",
      "Requirement already satisfied: kiwisolver>=1.3.1 in ./spacex_coursera.venv/lib/python3.13/site-packages (from matplotlib) (1.4.9)\n",
      "Requirement already satisfied: numpy>=1.23 in ./spacex_coursera.venv/lib/python3.13/site-packages (from matplotlib) (2.3.2)\n",
      "Requirement already satisfied: packaging>=20.0 in ./spacex_coursera.venv/lib/python3.13/site-packages (from matplotlib) (25.0)\n",
      "Requirement already satisfied: pillow>=8 in ./spacex_coursera.venv/lib/python3.13/site-packages (from matplotlib) (11.3.0)\n",
      "Requirement already satisfied: pyparsing>=2.3.1 in ./spacex_coursera.venv/lib/python3.13/site-packages (from matplotlib) (3.2.3)\n",
      "Requirement already satisfied: python-dateutil>=2.7 in ./spacex_coursera.venv/lib/python3.13/site-packages (from matplotlib) (2.9.0.post0)\n",
      "Requirement already satisfied: six>=1.5 in ./spacex_coursera.venv/lib/python3.13/site-packages (from python-dateutil>=2.7->matplotlib) (1.17.0)\n",
      "Note: you may need to restart the kernel to use updated packages.\n"
     ]
    }
   ],
   "source": [
    "%pip install pandas\n",
    "%pip install numpy\n",
    "%pip install seaborn\n",
    "%pip install matplotlib"
   ]
  },
  {
   "cell_type": "markdown",
   "id": "611a012d-e5fa-4935-8337-e318ecf6ab4b",
   "metadata": {},
   "source": [
    "### Import Libraries and Define Auxiliary Functions\n"
   ]
  },
  {
   "cell_type": "markdown",
   "id": "d3b02b88-be69-4fa0-a1a0-2c6dd5f21ea0",
   "metadata": {},
   "source": [
    "We will import the following libraries the lab \n",
    "\n"
   ]
  },
  {
   "cell_type": "code",
   "execution_count": 2,
   "id": "9995dcc2-82cd-454c-921c-11592827bb9b",
   "metadata": {},
   "outputs": [],
   "source": [
    "# andas is a software library written for the Python programming language for data manipulation and analysis.\n",
    "import pandas as pd\n",
    "#NumPy is a library for the Python programming language, adding support for large, multi-dimensional arrays and matrices, along with a large collection of high-level mathematical functions to operate on these arrays\n",
    "import numpy as np\n",
    "# Matplotlib is a plotting library for python and pyplot gives us a MatLab like plotting framework. We will use this in our plotter function to plot data.\n",
    "import matplotlib.pyplot as plt\n",
    "#Seaborn is a Python data visualization library based on matplotlib. It provides a high-level interface for drawing attractive and informative statistical graphics\n",
    "import seaborn as sns"
   ]
  },
  {
   "cell_type": "markdown",
   "id": "4aa4f9e1-0040-4088-ab6a-224186684779",
   "metadata": {},
   "source": [
    "## Exploratory Data Analysis \n"
   ]
  },
  {
   "cell_type": "markdown",
   "id": "f6a996af-4396-4429-a1f9-66eee883b81d",
   "metadata": {},
   "source": [
    "First, let's read the SpaceX dataset into a Pandas dataframe and print its summary\n"
   ]
  },
  {
   "cell_type": "code",
   "execution_count": 3,
   "id": "b50eb254-d861-4b8c-94bc-ed30cdb3c313",
   "metadata": {},
   "outputs": [
    {
     "data": {
      "application/vnd.microsoft.datawrangler.viewer.v0+json": {
       "columns": [
        {
         "name": "index",
         "rawType": "int64",
         "type": "integer"
        },
        {
         "name": "FlightNumber",
         "rawType": "int64",
         "type": "integer"
        },
        {
         "name": "Date",
         "rawType": "object",
         "type": "string"
        },
        {
         "name": "BoosterVersion",
         "rawType": "object",
         "type": "string"
        },
        {
         "name": "PayloadMass",
         "rawType": "float64",
         "type": "float"
        },
        {
         "name": "Orbit",
         "rawType": "object",
         "type": "string"
        },
        {
         "name": "LaunchSite",
         "rawType": "object",
         "type": "string"
        },
        {
         "name": "Outcome",
         "rawType": "object",
         "type": "string"
        },
        {
         "name": "Flights",
         "rawType": "int64",
         "type": "integer"
        },
        {
         "name": "GridFins",
         "rawType": "bool",
         "type": "boolean"
        },
        {
         "name": "Reused",
         "rawType": "bool",
         "type": "boolean"
        },
        {
         "name": "Legs",
         "rawType": "bool",
         "type": "boolean"
        },
        {
         "name": "LandingPad",
         "rawType": "object",
         "type": "unknown"
        },
        {
         "name": "Block",
         "rawType": "float64",
         "type": "float"
        },
        {
         "name": "ReusedCount",
         "rawType": "int64",
         "type": "integer"
        },
        {
         "name": "Serial",
         "rawType": "object",
         "type": "string"
        },
        {
         "name": "Longitude",
         "rawType": "float64",
         "type": "float"
        },
        {
         "name": "Latitude",
         "rawType": "float64",
         "type": "float"
        },
        {
         "name": "Class",
         "rawType": "int64",
         "type": "integer"
        }
       ],
       "ref": "88f759a7-d4fa-4547-94e2-df1a23aa0b0a",
       "rows": [
        [
         "0",
         "1",
         "2010-06-04",
         "Falcon 9",
         "6104.959411764706",
         "LEO",
         "CCAFS SLC 40",
         "None None",
         "1",
         "False",
         "False",
         "False",
         null,
         "1.0",
         "0",
         "B0003",
         "-80.577366",
         "28.5618571",
         "0"
        ],
        [
         "1",
         "2",
         "2012-05-22",
         "Falcon 9",
         "525.0",
         "LEO",
         "CCAFS SLC 40",
         "None None",
         "1",
         "False",
         "False",
         "False",
         null,
         "1.0",
         "0",
         "B0005",
         "-80.577366",
         "28.5618571",
         "0"
        ],
        [
         "2",
         "3",
         "2013-03-01",
         "Falcon 9",
         "677.0",
         "ISS",
         "CCAFS SLC 40",
         "None None",
         "1",
         "False",
         "False",
         "False",
         null,
         "1.0",
         "0",
         "B0007",
         "-80.577366",
         "28.5618571",
         "0"
        ],
        [
         "3",
         "4",
         "2013-09-29",
         "Falcon 9",
         "500.0",
         "PO",
         "VAFB SLC 4E",
         "False Ocean",
         "1",
         "False",
         "False",
         "False",
         null,
         "1.0",
         "0",
         "B1003",
         "-120.610829",
         "34.632093",
         "0"
        ],
        [
         "4",
         "5",
         "2013-12-03",
         "Falcon 9",
         "3170.0",
         "GTO",
         "CCAFS SLC 40",
         "None None",
         "1",
         "False",
         "False",
         "False",
         null,
         "1.0",
         "0",
         "B1004",
         "-80.577366",
         "28.5618571",
         "0"
        ]
       ],
       "shape": {
        "columns": 18,
        "rows": 5
       }
      },
      "text/html": [
       "<div>\n",
       "<style scoped>\n",
       "    .dataframe tbody tr th:only-of-type {\n",
       "        vertical-align: middle;\n",
       "    }\n",
       "\n",
       "    .dataframe tbody tr th {\n",
       "        vertical-align: top;\n",
       "    }\n",
       "\n",
       "    .dataframe thead th {\n",
       "        text-align: right;\n",
       "    }\n",
       "</style>\n",
       "<table border=\"1\" class=\"dataframe\">\n",
       "  <thead>\n",
       "    <tr style=\"text-align: right;\">\n",
       "      <th></th>\n",
       "      <th>FlightNumber</th>\n",
       "      <th>Date</th>\n",
       "      <th>BoosterVersion</th>\n",
       "      <th>PayloadMass</th>\n",
       "      <th>Orbit</th>\n",
       "      <th>LaunchSite</th>\n",
       "      <th>Outcome</th>\n",
       "      <th>Flights</th>\n",
       "      <th>GridFins</th>\n",
       "      <th>Reused</th>\n",
       "      <th>Legs</th>\n",
       "      <th>LandingPad</th>\n",
       "      <th>Block</th>\n",
       "      <th>ReusedCount</th>\n",
       "      <th>Serial</th>\n",
       "      <th>Longitude</th>\n",
       "      <th>Latitude</th>\n",
       "      <th>Class</th>\n",
       "    </tr>\n",
       "  </thead>\n",
       "  <tbody>\n",
       "    <tr>\n",
       "      <th>0</th>\n",
       "      <td>1</td>\n",
       "      <td>2010-06-04</td>\n",
       "      <td>Falcon 9</td>\n",
       "      <td>6104.959412</td>\n",
       "      <td>LEO</td>\n",
       "      <td>CCAFS SLC 40</td>\n",
       "      <td>None None</td>\n",
       "      <td>1</td>\n",
       "      <td>False</td>\n",
       "      <td>False</td>\n",
       "      <td>False</td>\n",
       "      <td>NaN</td>\n",
       "      <td>1.0</td>\n",
       "      <td>0</td>\n",
       "      <td>B0003</td>\n",
       "      <td>-80.577366</td>\n",
       "      <td>28.561857</td>\n",
       "      <td>0</td>\n",
       "    </tr>\n",
       "    <tr>\n",
       "      <th>1</th>\n",
       "      <td>2</td>\n",
       "      <td>2012-05-22</td>\n",
       "      <td>Falcon 9</td>\n",
       "      <td>525.000000</td>\n",
       "      <td>LEO</td>\n",
       "      <td>CCAFS SLC 40</td>\n",
       "      <td>None None</td>\n",
       "      <td>1</td>\n",
       "      <td>False</td>\n",
       "      <td>False</td>\n",
       "      <td>False</td>\n",
       "      <td>NaN</td>\n",
       "      <td>1.0</td>\n",
       "      <td>0</td>\n",
       "      <td>B0005</td>\n",
       "      <td>-80.577366</td>\n",
       "      <td>28.561857</td>\n",
       "      <td>0</td>\n",
       "    </tr>\n",
       "    <tr>\n",
       "      <th>2</th>\n",
       "      <td>3</td>\n",
       "      <td>2013-03-01</td>\n",
       "      <td>Falcon 9</td>\n",
       "      <td>677.000000</td>\n",
       "      <td>ISS</td>\n",
       "      <td>CCAFS SLC 40</td>\n",
       "      <td>None None</td>\n",
       "      <td>1</td>\n",
       "      <td>False</td>\n",
       "      <td>False</td>\n",
       "      <td>False</td>\n",
       "      <td>NaN</td>\n",
       "      <td>1.0</td>\n",
       "      <td>0</td>\n",
       "      <td>B0007</td>\n",
       "      <td>-80.577366</td>\n",
       "      <td>28.561857</td>\n",
       "      <td>0</td>\n",
       "    </tr>\n",
       "    <tr>\n",
       "      <th>3</th>\n",
       "      <td>4</td>\n",
       "      <td>2013-09-29</td>\n",
       "      <td>Falcon 9</td>\n",
       "      <td>500.000000</td>\n",
       "      <td>PO</td>\n",
       "      <td>VAFB SLC 4E</td>\n",
       "      <td>False Ocean</td>\n",
       "      <td>1</td>\n",
       "      <td>False</td>\n",
       "      <td>False</td>\n",
       "      <td>False</td>\n",
       "      <td>NaN</td>\n",
       "      <td>1.0</td>\n",
       "      <td>0</td>\n",
       "      <td>B1003</td>\n",
       "      <td>-120.610829</td>\n",
       "      <td>34.632093</td>\n",
       "      <td>0</td>\n",
       "    </tr>\n",
       "    <tr>\n",
       "      <th>4</th>\n",
       "      <td>5</td>\n",
       "      <td>2013-12-03</td>\n",
       "      <td>Falcon 9</td>\n",
       "      <td>3170.000000</td>\n",
       "      <td>GTO</td>\n",
       "      <td>CCAFS SLC 40</td>\n",
       "      <td>None None</td>\n",
       "      <td>1</td>\n",
       "      <td>False</td>\n",
       "      <td>False</td>\n",
       "      <td>False</td>\n",
       "      <td>NaN</td>\n",
       "      <td>1.0</td>\n",
       "      <td>0</td>\n",
       "      <td>B1004</td>\n",
       "      <td>-80.577366</td>\n",
       "      <td>28.561857</td>\n",
       "      <td>0</td>\n",
       "    </tr>\n",
       "  </tbody>\n",
       "</table>\n",
       "</div>"
      ],
      "text/plain": [
       "   FlightNumber        Date BoosterVersion  PayloadMass Orbit    LaunchSite  \\\n",
       "0             1  2010-06-04       Falcon 9  6104.959412   LEO  CCAFS SLC 40   \n",
       "1             2  2012-05-22       Falcon 9   525.000000   LEO  CCAFS SLC 40   \n",
       "2             3  2013-03-01       Falcon 9   677.000000   ISS  CCAFS SLC 40   \n",
       "3             4  2013-09-29       Falcon 9   500.000000    PO   VAFB SLC 4E   \n",
       "4             5  2013-12-03       Falcon 9  3170.000000   GTO  CCAFS SLC 40   \n",
       "\n",
       "       Outcome  Flights  GridFins  Reused   Legs LandingPad  Block  \\\n",
       "0    None None        1     False   False  False        NaN    1.0   \n",
       "1    None None        1     False   False  False        NaN    1.0   \n",
       "2    None None        1     False   False  False        NaN    1.0   \n",
       "3  False Ocean        1     False   False  False        NaN    1.0   \n",
       "4    None None        1     False   False  False        NaN    1.0   \n",
       "\n",
       "   ReusedCount Serial   Longitude   Latitude  Class  \n",
       "0            0  B0003  -80.577366  28.561857      0  \n",
       "1            0  B0005  -80.577366  28.561857      0  \n",
       "2            0  B0007  -80.577366  28.561857      0  \n",
       "3            0  B1003 -120.610829  34.632093      0  \n",
       "4            0  B1004  -80.577366  28.561857      0  "
      ]
     },
     "execution_count": 3,
     "metadata": {},
     "output_type": "execute_result"
    }
   ],
   "source": [
    "df=pd.read_csv(\"https://cf-courses-data.s3.us.cloud-object-storage.appdomain.cloud/IBM-DS0321EN-SkillsNetwork/datasets/dataset_part_2.csv\")\n",
    "\n",
    "# If you were unable to complete the previous lab correctly you can uncomment and load this csv\n",
    "\n",
    "# df = pd.read_csv('https://cf-courses-data.s3.us.cloud-object-storage.appdomain.cloud/IBMDeveloperSkillsNetwork-DS0701EN-SkillsNetwork/api/dataset_part_2.csv')\n",
    "\n",
    "df.head(5)"
   ]
  },
  {
   "cell_type": "markdown",
   "id": "9fc9b40d-0e0c-4127-b3e2-29534b821e2c",
   "metadata": {},
   "source": [
    "First, let's try to see how the `FlightNumber` (indicating the continuous launch attempts.) and `Payload` variables would affect the launch outcome.\n",
    "\n",
    "We can plot out the <code>FlightNumber</code> vs. <code>PayloadMass</code>and overlay the outcome of the launch. We see that as the flight number increases, the first stage is more likely to land successfully. The payload mass is also important; it seems the more massive the payload, the less likely the first stage will return.\n"
   ]
  },
  {
   "cell_type": "code",
   "execution_count": 4,
   "id": "58e6fdca-da8e-461b-8c44-0ec3f0207cf2",
   "metadata": {},
   "outputs": [
    {
     "data": {
      "image/png": "[encoded data removed]",
      "text/plain": [
       "<Figure size 2558.88x500 with 1 Axes>"
      ]
     },
     "metadata": {},
     "output_type": "display_data"
    }
   ],
   "source": [
    "sns.catplot(y=\"PayloadMass\", x=\"FlightNumber\", hue=\"Class\", data=df, aspect = 5)\n",
    "plt.xlabel(\"Flight Number\",fontsize=20)\n",
    "plt.ylabel(\"Pay load Mass (kg)\",fontsize=20)\n",
    "plt.show()"
   ]
  },
  {
   "cell_type": "markdown",
   "id": "c404ab29-466b-4434-ac3b-1d6051cadeee",
   "metadata": {},
   "source": [
    "Next, let's drill down to each site visualize its detailed launch records.\n"
   ]
  },
  {
   "cell_type": "markdown",
   "id": "bd2977f4-e6eb-4215-9983-38e7d6f3a722",
   "metadata": {},
   "source": [
    "### TASK 1: Visualize the relationship between Flight Number and Launch Site\n"
   ]
  },
  {
   "cell_type": "markdown",
   "id": "c584ce2f-5544-4bb5-8c3b-6677ec36e42e",
   "metadata": {},
   "source": [
    "Use the function <code>catplot</code> to plot <code>FlightNumber</code> vs <code>LaunchSite</code>, set the  parameter <code>x</code>  parameter to <code>FlightNumber</code>,set the  <code>y</code> to <code>Launch Site</code> and set the parameter <code>hue</code> to <code>'class'</code>\n"
   ]
  },
  {
   "cell_type": "code",
   "execution_count": 49,
   "id": "cfd90417-6790-4c08-818d-ca6e5849713c",
   "metadata": {},
   "outputs": [
    {
     "data": {
      "image/png": "[encoded data removed]",
      "text/plain": [
       "<Figure size 1058.88x500 with 1 Axes>"
      ]
     },
     "metadata": {},
     "output_type": "display_data"
    }
   ],
   "source": [
    "sns.catplot(y=\"LaunchSite\", x=\"FlightNumber\", hue=\"Class\", data=df, aspect = 2)\n",
    "plt.xlabel(\"Flight Number\",fontsize=20)\n",
    "plt.ylabel(\"Launch Site\",fontsize=20)\n",
    "plt.show()"
   ]
  },
  {
   "cell_type": "markdown",
   "id": "1cbbaccb-0974-46ea-8c93-9aa6b38caecb",
   "metadata": {},
   "source": [
    "Now try to explain the patterns you found in the Flight Number vs. Launch Site scatter point plots.\n"
   ]
  },
  {
   "cell_type": "markdown",
   "id": "2d402e92-e2bc-4923-9c56-5410f988ebe9",
   "metadata": {},
   "source": [
    "### TASK 2: Visualize the relationship between Payload and Launch Site\n"
   ]
  },
  {
   "cell_type": "markdown",
   "id": "948d55fc-37db-4988-994a-9196b3bca25f",
   "metadata": {},
   "source": [
    "We also want to observe if there is any relationship between launch sites and their payload mass.\n"
   ]
  },
  {
   "cell_type": "code",
   "execution_count": 7,
   "id": "e4d3556f-2e08-4324-bfb4-4c99a327662c",
   "metadata": {},
   "outputs": [
    {
     "data": {
      "image/png": "[encoded data removed]",
      "text/plain": [
       "<Figure size 2558.88x500 with 1 Axes>"
      ]
     },
     "metadata": {},
     "output_type": "display_data"
    }
   ],
   "source": [
    "# Plot a scatter point chart with x axis to be Pay Load Mass (kg) and y axis to be the launch site, and hue to be the class value\n",
    "sns.catplot(y=\"LaunchSite\", x=\"PayloadMass\", hue=\"Class\", data=df, aspect = 5)\n",
    "plt.xlabel(\"Pay Load Mass (kg)\",fontsize=20)\n",
    "plt.ylabel(\"Launch Site\",fontsize=20)\n",
    "plt.show()"
   ]
  },
  {
   "cell_type": "markdown",
   "id": "3494858e-e96c-43c8-b5c6-ef67b17e7c99",
   "metadata": {},
   "source": [
    "Now if you observe Payload Vs. Launch Site scatter point chart you will find for the VAFB-SLC  launchsite there are no  rockets  launched for  heavypayload mass(greater than 10000).\n"
   ]
  },
  {
   "cell_type": "markdown",
   "id": "9c1c328d-2015-4830-915c-39a6886a5b40",
   "metadata": {},
   "source": [
    "### TASK  3: Visualize the relationship between success rate of each orbit type\n"
   ]
  },
  {
   "cell_type": "markdown",
   "id": "bc911954-c608-43bf-8a63-c26342abc5a3",
   "metadata": {},
   "source": [
    "Next, we want to visually check if there are any relationship between success rate and orbit type.\n"
   ]
  },
  {
   "cell_type": "markdown",
   "id": "7b5d027a-3452-4f7a-9ca2-8966e1dd379e",
   "metadata": {},
   "source": [
    "Let's create a `bar chart` for the sucess rate of each orbit\n"
   ]
  },
  {
   "cell_type": "code",
   "execution_count": 14,
   "id": "e4ee3177-11a3-429c-8256-381f31d116bc",
   "metadata": {},
   "outputs": [
    {
     "data": {
      "image/png": "[encoded data removed]",
      "text/plain": [
       "<Figure size 640x480 with 1 Axes>"
      ]
     },
     "metadata": {},
     "output_type": "display_data"
    }
   ],
   "source": [
    "# HINT use groupby method on Orbit column and get the mean of Class column\n",
    "# sns.barplot(x=\"Orbit\", y=\"Class\", data=df)\n",
    "df.groupby(['Orbit'])['Class'].mean().plot.bar()\n",
    "plt.xlabel(\"Orbit\",fontsize=20)\n",
    "plt.ylabel(\"Success Rate\",fontsize=20)\n",
    "plt.show()"
   ]
  },
  {
   "cell_type": "markdown",
   "id": "6062f06a-906a-443e-a7e2-107b9d6a4edd",
   "metadata": {},
   "source": [
    "Analyze the ploted bar chart try to find which orbits have high sucess rate.\n"
   ]
  },
  {
   "cell_type": "markdown",
   "id": "36b59698-1d45-451d-8c65-b20c91522968",
   "metadata": {},
   "source": [
    "### TASK  4: Visualize the relationship between FlightNumber and Orbit type\n"
   ]
  },
  {
   "cell_type": "markdown",
   "id": "b3186029-cefa-42ce-b0dc-e4476dd23014",
   "metadata": {},
   "source": [
    "For each orbit, we want to see if there is any relationship between FlightNumber and Orbit type.\n"
   ]
  },
  {
   "cell_type": "code",
   "execution_count": 15,
   "id": "8d554254-9b6d-4070-8cfa-e4bc03820c42",
   "metadata": {},
   "outputs": [
    {
     "data": {
      "image/png": "[encoded data removed]",
      "text/plain": [
       "<Figure size 2558.88x500 with 1 Axes>"
      ]
     },
     "metadata": {},
     "output_type": "display_data"
    }
   ],
   "source": [
    "# Plot a scatter point chart with x axis to be FlightNumber and y axis to be the Orbit, and hue to be the class value\n",
    "sns.catplot(y=\"Orbit\", x=\"FlightNumber\", hue=\"Class\", data=df, aspect = 5)\n",
    "plt.xlabel(\"Flight Number\",fontsize=20)\n",
    "plt.ylabel(\"Orbit\",fontsize=20)\n",
    "plt.show()"
   ]
  },
  {
   "cell_type": "markdown",
   "id": "ecc43ce7-b6d2-4c2a-9226-a6cfdab57574",
   "metadata": {},
   "source": [
    "You should see that in the LEO orbit the Success appears related to the number of flights; on the other hand, there seems to be no relationship between flight number when in GTO orbit.\n"
   ]
  },
  {
   "cell_type": "markdown",
   "id": "cb3d5fdc-be42-481f-846f-51bb7c36f2e9",
   "metadata": {},
   "source": [
    "### TASK  5: Visualize the relationship between Payload and Orbit type\n"
   ]
  },
  {
   "cell_type": "markdown",
   "id": "18e250f4-3c78-48a1-8c1b-4c6f580d6761",
   "metadata": {},
   "source": [
    "Similarly, we can plot the Payload vs. Orbit scatter point charts to reveal the relationship between Payload and Orbit type\n"
   ]
  },
  {
   "cell_type": "code",
   "execution_count": 17,
   "id": "226b4be0-6867-4f19-9ff3-086994403b22",
   "metadata": {},
   "outputs": [
    {
     "data": {
      "image/png": "[encoded data removed]",
      "text/plain": [
       "<Figure size 2558.88x500 with 1 Axes>"
      ]
     },
     "metadata": {},
     "output_type": "display_data"
    }
   ],
   "source": [
    "# Plot a scatter point chart with x axis to be Payload and y axis to be the Orbit, and hue to be the class value\n",
    "sns.catplot(y=\"Orbit\", x=\"PayloadMass\", hue=\"Class\", data=df, aspect = 5)\n",
    "plt.xlabel(\"Payload\",fontsize=20)\n",
    "plt.ylabel(\"Orbit\",fontsize=20)\n",
    "plt.show()"
   ]
  },
  {
   "cell_type": "markdown",
   "id": "f6def6e4-d13a-4e31-8e1f-8f089945d084",
   "metadata": {},
   "source": [
    "With heavy payloads the successful landing or positive landing rate are more for Polar,LEO and ISS.   \n",
    "\n",
    "However for GTO we cannot distinguish this well as both positive landing rate and negative landing(unsuccessful mission) are both there here.\n",
    "\n",
    "\n"
   ]
  },
  {
   "cell_type": "markdown",
   "id": "eadcd1eb-f906-4665-8610-be501f99decc",
   "metadata": {},
   "source": [
    "### TASK  6: Visualize the launch success yearly trend\n"
   ]
  },
  {
   "cell_type": "markdown",
   "id": "5e0616e5-ac90-4b3c-be85-97033829a0d7",
   "metadata": {},
   "source": [
    "You can plot a line chart with x axis to be <code>Year</code> and y axis to be average success rate, to get the average launch success trend. \n"
   ]
  },
  {
   "cell_type": "markdown",
   "id": "bbc94f29-8832-4251-9599-b77223a539da",
   "metadata": {},
   "source": [
    "The function will help you get the year from the date:\n"
   ]
  },
  {
   "cell_type": "code",
   "execution_count": 18,
   "id": "413872c3-143a-40ab-be3b-5293a5c20c89",
   "metadata": {},
   "outputs": [],
   "source": [
    "# A function to Extract years from the date \n",
    "year=[]\n",
    "def Extract_year(date):\n",
    "    for i in df[\"Date\"]:\n",
    "        year.append(i.split(\"-\")[0])\n",
    "    return year\n",
    "    "
   ]
  },
  {
   "cell_type": "code",
   "execution_count": 43,
   "id": "fab06149-ac8d-46c9-be52-7dfe63a94b27",
   "metadata": {},
   "outputs": [
    {
     "data": {
      "image/png": "[encoded data removed]",
      "text/plain": [
       "<Figure size 640x480 with 1 Axes>"
      ]
     },
     "metadata": {},
     "output_type": "display_data"
    }
   ],
   "source": [
    "# Plot a line chart with x axis to be the extracted year and y axis to be the success rate\n",
    "# df['Year']=Extract_year(df['Date'])\n",
    "df.groupby(['Year'])['Class'].mean().plot()\n",
    "plt.xlabel(\"Year\",fontsize=20)\n",
    "plt.ylabel(\"Success Rate\",fontsize=20)\n",
    "plt.show()"
   ]
  },
  {
   "cell_type": "markdown",
   "id": "6f96b59f-891e-46eb-926a-45b24aabe572",
   "metadata": {},
   "source": [
    "You can observe that the success rate since 2013 kept increasing till 2017 (stable in 2014) and after 2015 it started increasing.\n"
   ]
  },
  {
   "cell_type": "markdown",
   "id": "29f50193-936f-45e1-87c3-1d3228c6e125",
   "metadata": {},
   "source": [
    "## Features Engineering \n"
   ]
  },
  {
   "cell_type": "markdown",
   "id": "673357fb-ae3b-48fd-bd49-eeb2f86055e5",
   "metadata": {},
   "source": [
    "By now, you should obtain some preliminary insights about how each important variable would affect the success rate, we will select the features that will be used in success prediction in the future module.\n"
   ]
  },
  {
   "cell_type": "code",
   "execution_count": 44,
   "id": "14b7045a-46ac-4448-abc6-708b7e5b0122",
   "metadata": {},
   "outputs": [
    {
     "data": {
      "application/vnd.microsoft.datawrangler.viewer.v0+json": {
       "columns": [
        {
         "name": "index",
         "rawType": "int64",
         "type": "integer"
        },
        {
         "name": "FlightNumber",
         "rawType": "int64",
         "type": "integer"
        },
        {
         "name": "PayloadMass",
         "rawType": "float64",
         "type": "float"
        },
        {
         "name": "Orbit",
         "rawType": "object",
         "type": "string"
        },
        {
         "name": "LaunchSite",
         "rawType": "object",
         "type": "string"
        },
        {
         "name": "Flights",
         "rawType": "int64",
         "type": "integer"
        },
        {
         "name": "GridFins",
         "rawType": "bool",
         "type": "boolean"
        },
        {
         "name": "Reused",
         "rawType": "bool",
         "type": "boolean"
        },
        {
         "name": "Legs",
         "rawType": "bool",
         "type": "boolean"
        },
        {
         "name": "LandingPad",
         "rawType": "object",
         "type": "unknown"
        },
        {
         "name": "Block",
         "rawType": "float64",
         "type": "float"
        },
        {
         "name": "ReusedCount",
         "rawType": "int64",
         "type": "integer"
        },
        {
         "name": "Serial",
         "rawType": "object",
         "type": "string"
        }
       ],
       "ref": "6230f62b-f3ea-4c8e-8875-85c20601cc6e",
       "rows": [
        [
         "0",
         "1",
         "6104.959411764706",
         "LEO",
         "CCAFS SLC 40",
         "1",
         "False",
         "False",
         "False",
         null,
         "1.0",
         "0",
         "B0003"
        ],
        [
         "1",
         "2",
         "525.0",
         "LEO",
         "CCAFS SLC 40",
         "1",
         "False",
         "False",
         "False",
         null,
         "1.0",
         "0",
         "B0005"
        ],
        [
         "2",
         "3",
         "677.0",
         "ISS",
         "CCAFS SLC 40",
         "1",
         "False",
         "False",
         "False",
         null,
         "1.0",
         "0",
         "B0007"
        ],
        [
         "3",
         "4",
         "500.0",
         "PO",
         "VAFB SLC 4E",
         "1",
         "False",
         "False",
         "False",
         null,
         "1.0",
         "0",
         "B1003"
        ],
        [
         "4",
         "5",
         "3170.0",
         "GTO",
         "CCAFS SLC 40",
         "1",
         "False",
         "False",
         "False",
         null,
         "1.0",
         "0",
         "B1004"
        ]
       ],
       "shape": {
        "columns": 12,
        "rows": 5
       }
      },
      "text/html": [
       "<div>\n",
       "<style scoped>\n",
       "    .dataframe tbody tr th:only-of-type {\n",
       "        vertical-align: middle;\n",
       "    }\n",
       "\n",
       "    .dataframe tbody tr th {\n",
       "        vertical-align: top;\n",
       "    }\n",
       "\n",
       "    .dataframe thead th {\n",
       "        text-align: right;\n",
       "    }\n",
       "</style>\n",
       "<table border=\"1\" class=\"dataframe\">\n",
       "  <thead>\n",
       "    <tr style=\"text-align: right;\">\n",
       "      <th></th>\n",
       "      <th>FlightNumber</th>\n",
       "      <th>PayloadMass</th>\n",
       "      <th>Orbit</th>\n",
       "      <th>LaunchSite</th>\n",
       "      <th>Flights</th>\n",
       "      <th>GridFins</th>\n",
       "      <th>Reused</th>\n",
       "      <th>Legs</th>\n",
       "      <th>LandingPad</th>\n",
       "      <th>Block</th>\n",
       "      <th>ReusedCount</th>\n",
       "      <th>Serial</th>\n",
       "    </tr>\n",
       "  </thead>\n",
       "  <tbody>\n",
       "    <tr>\n",
       "      <th>0</th>\n",
       "      <td>1</td>\n",
       "      <td>6104.959412</td>\n",
       "      <td>LEO</td>\n",
       "      <td>CCAFS SLC 40</td>\n",
       "      <td>1</td>\n",
       "      <td>False</td>\n",
       "      <td>False</td>\n",
       "      <td>False</td>\n",
       "      <td>NaN</td>\n",
       "      <td>1.0</td>\n",
       "      <td>0</td>\n",
       "      <td>B0003</td>\n",
       "    </tr>\n",
       "    <tr>\n",
       "      <th>1</th>\n",
       "      <td>2</td>\n",
       "      <td>525.000000</td>\n",
       "      <td>LEO</td>\n",
       "      <td>CCAFS SLC 40</td>\n",
       "      <td>1</td>\n",
       "      <td>False</td>\n",
       "      <td>False</td>\n",
       "      <td>False</td>\n",
       "      <td>NaN</td>\n",
       "      <td>1.0</td>\n",
       "      <td>0</td>\n",
       "      <td>B0005</td>\n",
       "    </tr>\n",
       "    <tr>\n",
       "      <th>2</th>\n",
       "      <td>3</td>\n",
       "      <td>677.000000</td>\n",
       "      <td>ISS</td>\n",
       "      <td>CCAFS SLC 40</td>\n",
       "      <td>1</td>\n",
       "      <td>False</td>\n",
       "      <td>False</td>\n",
       "      <td>False</td>\n",
       "      <td>NaN</td>\n",
       "      <td>1.0</td>\n",
       "      <td>0</td>\n",
       "      <td>B0007</td>\n",
       "    </tr>\n",
       "    <tr>\n",
       "      <th>3</th>\n",
       "      <td>4</td>\n",
       "      <td>500.000000</td>\n",
       "      <td>PO</td>\n",
       "      <td>VAFB SLC 4E</td>\n",
       "      <td>1</td>\n",
       "      <td>False</td>\n",
       "      <td>False</td>\n",
       "      <td>False</td>\n",
       "      <td>NaN</td>\n",
       "      <td>1.0</td>\n",
       "      <td>0</td>\n",
       "      <td>B1003</td>\n",
       "    </tr>\n",
       "    <tr>\n",
       "      <th>4</th>\n",
       "      <td>5</td>\n",
       "      <td>3170.000000</td>\n",
       "      <td>GTO</td>\n",
       "      <td>CCAFS SLC 40</td>\n",
       "      <td>1</td>\n",
       "      <td>False</td>\n",
       "      <td>False</td>\n",
       "      <td>False</td>\n",
       "      <td>NaN</td>\n",
       "      <td>1.0</td>\n",
       "      <td>0</td>\n",
       "      <td>B1004</td>\n",
       "    </tr>\n",
       "  </tbody>\n",
       "</table>\n",
       "</div>"
      ],
      "text/plain": [
       "   FlightNumber  PayloadMass Orbit    LaunchSite  Flights  GridFins  Reused  \\\n",
       "0             1  6104.959412   LEO  CCAFS SLC 40        1     False   False   \n",
       "1             2   525.000000   LEO  CCAFS SLC 40        1     False   False   \n",
       "2             3   677.000000   ISS  CCAFS SLC 40        1     False   False   \n",
       "3             4   500.000000    PO   VAFB SLC 4E        1     False   False   \n",
       "4             5  3170.000000   GTO  CCAFS SLC 40        1     False   False   \n",
       "\n",
       "    Legs LandingPad  Block  ReusedCount Serial  \n",
       "0  False        NaN    1.0            0  B0003  \n",
       "1  False        NaN    1.0            0  B0005  \n",
       "2  False        NaN    1.0            0  B0007  \n",
       "3  False        NaN    1.0            0  B1003  \n",
       "4  False        NaN    1.0            0  B1004  "
      ]
     },
     "execution_count": 44,
     "metadata": {},
     "output_type": "execute_result"
    }
   ],
   "source": [
    "features = df[['FlightNumber', 'PayloadMass', 'Orbit', 'LaunchSite', 'Flights', 'GridFins', 'Reused', 'Legs', 'LandingPad', 'Block', 'ReusedCount', 'Serial']]\n",
    "features.head()"
   ]
  },
  {
   "cell_type": "markdown",
   "id": "f9d3be37-3c16-4577-8558-69882420c5e1",
   "metadata": {},
   "source": [
    " ### TASK  7: Create dummy variables to categorical columns\n"
   ]
  },
  {
   "cell_type": "markdown",
   "id": "bf78efbb-5fab-4140-b9e9-2fa794210081",
   "metadata": {},
   "source": [
    "Use the function <code>get_dummies</code> and <code>features</code> dataframe to apply OneHotEncoder to the column <code>Orbits</code>, <code>LaunchSite</code>, <code>LandingPad</code>, and <code>Serial</code>. Assign the value to the variable <code>features_one_hot</code>, display the results using the method head. Your result dataframe must include all features including the encoded ones.\n"
   ]
  },
  {
   "cell_type": "code",
   "execution_count": 45,
   "id": "dbe16e41-9e7d-42b9-be47-18a22ad097b1",
   "metadata": {},
   "outputs": [
    {
     "data": {
      "application/vnd.microsoft.datawrangler.viewer.v0+json": {
       "columns": [
        {
         "name": "index",
         "rawType": "int64",
         "type": "integer"
        },
        {
         "name": "FlightNumber",
         "rawType": "int64",
         "type": "integer"
        },
        {
         "name": "PayloadMass",
         "rawType": "float64",
         "type": "float"
        },
        {
         "name": "Flights",
         "rawType": "int64",
         "type": "integer"
        },
        {
         "name": "GridFins",
         "rawType": "bool",
         "type": "boolean"
        },
        {
         "name": "Reused",
         "rawType": "bool",
         "type": "boolean"
        },
        {
         "name": "Legs",
         "rawType": "bool",
         "type": "boolean"
        },
        {
         "name": "Block",
         "rawType": "float64",
         "type": "float"
        },
        {
         "name": "ReusedCount",
         "rawType": "int64",
         "type": "integer"
        },
        {
         "name": "Orbit_ES-L1",
         "rawType": "bool",
         "type": "boolean"
        },
        {
         "name": "Orbit_GEO",
         "rawType": "bool",
         "type": "boolean"
        },
        {
         "name": "Orbit_GTO",
         "rawType": "bool",
         "type": "boolean"
        },
        {
         "name": "Orbit_HEO",
         "rawType": "bool",
         "type": "boolean"
        },
        {
         "name": "Orbit_ISS",
         "rawType": "bool",
         "type": "boolean"
        },
        {
         "name": "Orbit_LEO",
         "rawType": "bool",
         "type": "boolean"
        },
        {
         "name": "Orbit_MEO",
         "rawType": "bool",
         "type": "boolean"
        },
        {
         "name": "Orbit_PO",
         "rawType": "bool",
         "type": "boolean"
        },
        {
         "name": "Orbit_SO",
         "rawType": "bool",
         "type": "boolean"
        },
        {
         "name": "Orbit_SSO",
         "rawType": "bool",
         "type": "boolean"
        },
        {
         "name": "Orbit_VLEO",
         "rawType": "bool",
         "type": "boolean"
        },
        {
         "name": "LaunchSite_CCAFS SLC 40",
         "rawType": "bool",
         "type": "boolean"
        },
        {
         "name": "LaunchSite_KSC LC 39A",
         "rawType": "bool",
         "type": "boolean"
        },
        {
         "name": "LaunchSite_VAFB SLC 4E",
         "rawType": "bool",
         "type": "boolean"
        },
        {
         "name": "LandingPad_5e9e3032383ecb267a34e7c7",
         "rawType": "bool",
         "type": "boolean"
        },
        {
         "name": "LandingPad_5e9e3032383ecb554034e7c9",
         "rawType": "bool",
         "type": "boolean"
        },
        {
         "name": "LandingPad_5e9e3032383ecb6bb234e7ca",
         "rawType": "bool",
         "type": "boolean"
        },
        {
         "name": "LandingPad_5e9e3032383ecb761634e7cb",
         "rawType": "bool",
         "type": "boolean"
        },
        {
         "name": "LandingPad_5e9e3033383ecbb9e534e7cc",
         "rawType": "bool",
         "type": "boolean"
        },
        {
         "name": "Serial_B0003",
         "rawType": "bool",
         "type": "boolean"
        },
        {
         "name": "Serial_B0005",
         "rawType": "bool",
         "type": "boolean"
        },
        {
         "name": "Serial_B0007",
         "rawType": "bool",
         "type": "boolean"
        },
        {
         "name": "Serial_B1003",
         "rawType": "bool",
         "type": "boolean"
        },
        {
         "name": "Serial_B1004",
         "rawType": "bool",
         "type": "boolean"
        },
        {
         "name": "Serial_B1005",
         "rawType": "bool",
         "type": "boolean"
        },
        {
         "name": "Serial_B1006",
         "rawType": "bool",
         "type": "boolean"
        },
        {
         "name": "Serial_B1007",
         "rawType": "bool",
         "type": "boolean"
        },
        {
         "name": "Serial_B1008",
         "rawType": "bool",
         "type": "boolean"
        },
        {
         "name": "Serial_B1010",
         "rawType": "bool",
         "type": "boolean"
        },
        {
         "name": "Serial_B1011",
         "rawType": "bool",
         "type": "boolean"
        },
        {
         "name": "Serial_B1012",
         "rawType": "bool",
         "type": "boolean"
        },
        {
         "name": "Serial_B1013",
         "rawType": "bool",
         "type": "boolean"
        },
        {
         "name": "Serial_B1015",
         "rawType": "bool",
         "type": "boolean"
        },
        {
         "name": "Serial_B1016",
         "rawType": "bool",
         "type": "boolean"
        },
        {
         "name": "Serial_B1017",
         "rawType": "bool",
         "type": "boolean"
        },
        {
         "name": "Serial_B1018",
         "rawType": "bool",
         "type": "boolean"
        },
        {
         "name": "Serial_B1019",
         "rawType": "bool",
         "type": "boolean"
        },
        {
         "name": "Serial_B1020",
         "rawType": "bool",
         "type": "boolean"
        },
        {
         "name": "Serial_B1021",
         "rawType": "bool",
         "type": "boolean"
        },
        {
         "name": "Serial_B1022",
         "rawType": "bool",
         "type": "boolean"
        },
        {
         "name": "Serial_B1023",
         "rawType": "bool",
         "type": "boolean"
        },
        {
         "name": "Serial_B1025",
         "rawType": "bool",
         "type": "boolean"
        },
        {
         "name": "Serial_B1026",
         "rawType": "bool",
         "type": "boolean"
        },
        {
         "name": "Serial_B1028",
         "rawType": "bool",
         "type": "boolean"
        },
        {
         "name": "Serial_B1029",
         "rawType": "bool",
         "type": "boolean"
        },
        {
         "name": "Serial_B1030",
         "rawType": "bool",
         "type": "boolean"
        },
        {
         "name": "Serial_B1031",
         "rawType": "bool",
         "type": "boolean"
        },
        {
         "name": "Serial_B1032",
         "rawType": "bool",
         "type": "boolean"
        },
        {
         "name": "Serial_B1034",
         "rawType": "bool",
         "type": "boolean"
        },
        {
         "name": "Serial_B1035",
         "rawType": "bool",
         "type": "boolean"
        },
        {
         "name": "Serial_B1036",
         "rawType": "bool",
         "type": "boolean"
        },
        {
         "name": "Serial_B1037",
         "rawType": "bool",
         "type": "boolean"
        },
        {
         "name": "Serial_B1038",
         "rawType": "bool",
         "type": "boolean"
        },
        {
         "name": "Serial_B1039",
         "rawType": "bool",
         "type": "boolean"
        },
        {
         "name": "Serial_B1040",
         "rawType": "bool",
         "type": "boolean"
        },
        {
         "name": "Serial_B1041",
         "rawType": "bool",
         "type": "boolean"
        },
        {
         "name": "Serial_B1042",
         "rawType": "bool",
         "type": "boolean"
        },
        {
         "name": "Serial_B1043",
         "rawType": "bool",
         "type": "boolean"
        },
        {
         "name": "Serial_B1044",
         "rawType": "bool",
         "type": "boolean"
        },
        {
         "name": "Serial_B1045",
         "rawType": "bool",
         "type": "boolean"
        },
        {
         "name": "Serial_B1046",
         "rawType": "bool",
         "type": "boolean"
        },
        {
         "name": "Serial_B1047",
         "rawType": "bool",
         "type": "boolean"
        },
        {
         "name": "Serial_B1048",
         "rawType": "bool",
         "type": "boolean"
        },
        {
         "name": "Serial_B1049",
         "rawType": "bool",
         "type": "boolean"
        },
        {
         "name": "Serial_B1050",
         "rawType": "bool",
         "type": "boolean"
        },
        {
         "name": "Serial_B1051",
         "rawType": "bool",
         "type": "boolean"
        },
        {
         "name": "Serial_B1054",
         "rawType": "bool",
         "type": "boolean"
        },
        {
         "name": "Serial_B1056",
         "rawType": "bool",
         "type": "boolean"
        },
        {
         "name": "Serial_B1058",
         "rawType": "bool",
         "type": "boolean"
        },
        {
         "name": "Serial_B1059",
         "rawType": "bool",
         "type": "boolean"
        },
        {
         "name": "Serial_B1060",
         "rawType": "bool",
         "type": "boolean"
        },
        {
         "name": "Serial_B1062",
         "rawType": "bool",
         "type": "boolean"
        }
       ],
       "ref": "05f596a1-d5c8-46f9-a37f-eefa50680e61",
       "rows": [
        [
         "0",
         "1",
         "6104.959411764706",
         "1",
         "False",
         "False",
         "False",
         "1.0",
         "0",
         "False",
         "False",
         "False",
         "False",
         "False",
         "True",
         "False",
         "False",
         "False",
         "False",
         "False",
         "True",
         "False",
         "False",
         "False",
         "False",
         "False",
         "False",
         "False",
         "True",
         "False",
         "False",
         "False",
         "False",
         "False",
         "False",
         "False",
         "False",
         "False",
         "False",
         "False",
         "False",
         "False",
         "False",
         "False",
         "False",
         "False",
         "False",
         "False",
         "False",
         "False",
         "False",
         "False",
         "False",
         "False",
         "False",
         "False",
         "False",
         "False",
         "False",
         "False",
         "False",
         "False",
         "False",
         "False",
         "False",
         "False",
         "False",
         "False",
         "False",
         "False",
         "False",
         "False",
         "False",
         "False",
         "False",
         "False",
         "False",
         "False",
         "False",
         "False",
         "False"
        ],
        [
         "1",
         "2",
         "525.0",
         "1",
         "False",
         "False",
         "False",
         "1.0",
         "0",
         "False",
         "False",
         "False",
         "False",
         "False",
         "True",
         "False",
         "False",
         "False",
         "False",
         "False",
         "True",
         "False",
         "False",
         "False",
         "False",
         "False",
         "False",
         "False",
         "False",
         "True",
         "False",
         "False",
         "False",
         "False",
         "False",
         "False",
         "False",
         "False",
         "False",
         "False",
         "False",
         "False",
         "False",
         "False",
         "False",
         "False",
         "False",
         "False",
         "False",
         "False",
         "False",
         "False",
         "False",
         "False",
         "False",
         "False",
         "False",
         "False",
         "False",
         "False",
         "False",
         "False",
         "False",
         "False",
         "False",
         "False",
         "False",
         "False",
         "False",
         "False",
         "False",
         "False",
         "False",
         "False",
         "False",
         "False",
         "False",
         "False",
         "False",
         "False",
         "False"
        ],
        [
         "2",
         "3",
         "677.0",
         "1",
         "False",
         "False",
         "False",
         "1.0",
         "0",
         "False",
         "False",
         "False",
         "False",
         "True",
         "False",
         "False",
         "False",
         "False",
         "False",
         "False",
         "True",
         "False",
         "False",
         "False",
         "False",
         "False",
         "False",
         "False",
         "False",
         "False",
         "True",
         "False",
         "False",
         "False",
         "False",
         "False",
         "False",
         "False",
         "False",
         "False",
         "False",
         "False",
         "False",
         "False",
         "False",
         "False",
         "False",
         "False",
         "False",
         "False",
         "False",
         "False",
         "False",
         "False",
         "False",
         "False",
         "False",
         "False",
         "False",
         "False",
         "False",
         "False",
         "False",
         "False",
         "False",
         "False",
         "False",
         "False",
         "False",
         "False",
         "False",
         "False",
         "False",
         "False",
         "False",
         "False",
         "False",
         "False",
         "False",
         "False",
         "False"
        ],
        [
         "3",
         "4",
         "500.0",
         "1",
         "False",
         "False",
         "False",
         "1.0",
         "0",
         "False",
         "False",
         "False",
         "False",
         "False",
         "False",
         "False",
         "True",
         "False",
         "False",
         "False",
         "False",
         "False",
         "True",
         "False",
         "False",
         "False",
         "False",
         "False",
         "False",
         "False",
         "False",
         "True",
         "False",
         "False",
         "False",
         "False",
         "False",
         "False",
         "False",
         "False",
         "False",
         "False",
         "False",
         "False",
         "False",
         "False",
         "False",
         "False",
         "False",
         "False",
         "False",
         "False",
         "False",
         "False",
         "False",
         "False",
         "False",
         "False",
         "False",
         "False",
         "False",
         "False",
         "False",
         "False",
         "False",
         "False",
         "False",
         "False",
         "False",
         "False",
         "False",
         "False",
         "False",
         "False",
         "False",
         "False",
         "False",
         "False",
         "False",
         "False",
         "False"
        ],
        [
         "4",
         "5",
         "3170.0",
         "1",
         "False",
         "False",
         "False",
         "1.0",
         "0",
         "False",
         "False",
         "True",
         "False",
         "False",
         "False",
         "False",
         "False",
         "False",
         "False",
         "False",
         "True",
         "False",
         "False",
         "False",
         "False",
         "False",
         "False",
         "False",
         "False",
         "False",
         "False",
         "False",
         "True",
         "False",
         "False",
         "False",
         "False",
         "False",
         "False",
         "False",
         "False",
         "False",
         "False",
         "False",
         "False",
         "False",
         "False",
         "False",
         "False",
         "False",
         "False",
         "False",
         "False",
         "False",
         "False",
         "False",
         "False",
         "False",
         "False",
         "False",
         "False",
         "False",
         "False",
         "False",
         "False",
         "False",
         "False",
         "False",
         "False",
         "False",
         "False",
         "False",
         "False",
         "False",
         "False",
         "False",
         "False",
         "False",
         "False",
         "False",
         "False"
        ]
       ],
       "shape": {
        "columns": 80,
        "rows": 5
       }
      },
      "text/html": [
       "<div>\n",
       "<style scoped>\n",
       "    .dataframe tbody tr th:only-of-type {\n",
       "        vertical-align: middle;\n",
       "    }\n",
       "\n",
       "    .dataframe tbody tr th {\n",
       "        vertical-align: top;\n",
       "    }\n",
       "\n",
       "    .dataframe thead th {\n",
       "        text-align: right;\n",
       "    }\n",
       "</style>\n",
       "<table border=\"1\" class=\"dataframe\">\n",
       "  <thead>\n",
       "    <tr style=\"text-align: right;\">\n",
       "      <th></th>\n",
       "      <th>FlightNumber</th>\n",
       "      <th>PayloadMass</th>\n",
       "      <th>Flights</th>\n",
       "      <th>GridFins</th>\n",
       "      <th>Reused</th>\n",
       "      <th>Legs</th>\n",
       "      <th>Block</th>\n",
       "      <th>ReusedCount</th>\n",
       "      <th>Orbit_ES-L1</th>\n",
       "      <th>Orbit_GEO</th>\n",
       "      <th>...</th>\n",
       "      <th>Serial_B1048</th>\n",
       "      <th>Serial_B1049</th>\n",
       "      <th>Serial_B1050</th>\n",
       "      <th>Serial_B1051</th>\n",
       "      <th>Serial_B1054</th>\n",
       "      <th>Serial_B1056</th>\n",
       "      <th>Serial_B1058</th>\n",
       "      <th>Serial_B1059</th>\n",
       "      <th>Serial_B1060</th>\n",
       "      <th>Serial_B1062</th>\n",
       "    </tr>\n",
       "  </thead>\n",
       "  <tbody>\n",
       "    <tr>\n",
       "      <th>0</th>\n",
       "      <td>1</td>\n",
       "      <td>6104.959412</td>\n",
       "      <td>1</td>\n",
       "      <td>False</td>\n",
       "      <td>False</td>\n",
       "      <td>False</td>\n",
       "      <td>1.0</td>\n",
       "      <td>0</td>\n",
       "      <td>False</td>\n",
       "      <td>False</td>\n",
       "      <td>...</td>\n",
       "      <td>False</td>\n",
       "      <td>False</td>\n",
       "      <td>False</td>\n",
       "      <td>False</td>\n",
       "      <td>False</td>\n",
       "      <td>False</td>\n",
       "      <td>False</td>\n",
       "      <td>False</td>\n",
       "      <td>False</td>\n",
       "      <td>False</td>\n",
       "    </tr>\n",
       "    <tr>\n",
       "      <th>1</th>\n",
       "      <td>2</td>\n",
       "      <td>525.000000</td>\n",
       "      <td>1</td>\n",
       "      <td>False</td>\n",
       "      <td>False</td>\n",
       "      <td>False</td>\n",
       "      <td>1.0</td>\n",
       "      <td>0</td>\n",
       "      <td>False</td>\n",
       "      <td>False</td>\n",
       "      <td>...</td>\n",
       "      <td>False</td>\n",
       "      <td>False</td>\n",
       "      <td>False</td>\n",
       "      <td>False</td>\n",
       "      <td>False</td>\n",
       "      <td>False</td>\n",
       "      <td>False</td>\n",
       "      <td>False</td>\n",
       "      <td>False</td>\n",
       "      <td>False</td>\n",
       "    </tr>\n",
       "    <tr>\n",
       "      <th>2</th>\n",
       "      <td>3</td>\n",
       "      <td>677.000000</td>\n",
       "      <td>1</td>\n",
       "      <td>False</td>\n",
       "      <td>False</td>\n",
       "      <td>False</td>\n",
       "      <td>1.0</td>\n",
       "      <td>0</td>\n",
       "      <td>False</td>\n",
       "      <td>False</td>\n",
       "      <td>...</td>\n",
       "      <td>False</td>\n",
       "      <td>False</td>\n",
       "      <td>False</td>\n",
       "      <td>False</td>\n",
       "      <td>False</td>\n",
       "      <td>False</td>\n",
       "      <td>False</td>\n",
       "      <td>False</td>\n",
       "      <td>False</td>\n",
       "      <td>False</td>\n",
       "    </tr>\n",
       "    <tr>\n",
       "      <th>3</th>\n",
       "      <td>4</td>\n",
       "      <td>500.000000</td>\n",
       "      <td>1</td>\n",
       "      <td>False</td>\n",
       "      <td>False</td>\n",
       "      <td>False</td>\n",
       "      <td>1.0</td>\n",
       "      <td>0</td>\n",
       "      <td>False</td>\n",
       "      <td>False</td>\n",
       "      <td>...</td>\n",
       "      <td>False</td>\n",
       "      <td>False</td>\n",
       "      <td>False</td>\n",
       "      <td>False</td>\n",
       "      <td>False</td>\n",
       "      <td>False</td>\n",
       "      <td>False</td>\n",
       "      <td>False</td>\n",
       "      <td>False</td>\n",
       "      <td>False</td>\n",
       "    </tr>\n",
       "    <tr>\n",
       "      <th>4</th>\n",
       "      <td>5</td>\n",
       "      <td>3170.000000</td>\n",
       "      <td>1</td>\n",
       "      <td>False</td>\n",
       "      <td>False</td>\n",
       "      <td>False</td>\n",
       "      <td>1.0</td>\n",
       "      <td>0</td>\n",
       "      <td>False</td>\n",
       "      <td>False</td>\n",
       "      <td>...</td>\n",
       "      <td>False</td>\n",
       "      <td>False</td>\n",
       "      <td>False</td>\n",
       "      <td>False</td>\n",
       "      <td>False</td>\n",
       "      <td>False</td>\n",
       "      <td>False</td>\n",
       "      <td>False</td>\n",
       "      <td>False</td>\n",
       "      <td>False</td>\n",
       "    </tr>\n",
       "  </tbody>\n",
       "</table>\n",
       "<p>5 rows × 80 columns</p>\n",
       "</div>"
      ],
      "text/plain": [
       "   FlightNumber  PayloadMass  Flights  GridFins  Reused   Legs  Block  \\\n",
       "0             1  6104.959412        1     False   False  False    1.0   \n",
       "1             2   525.000000        1     False   False  False    1.0   \n",
       "2             3   677.000000        1     False   False  False    1.0   \n",
       "3             4   500.000000        1     False   False  False    1.0   \n",
       "4             5  3170.000000        1     False   False  False    1.0   \n",
       "\n",
       "   ReusedCount  Orbit_ES-L1  Orbit_GEO  ...  Serial_B1048  Serial_B1049  \\\n",
       "0            0        False      False  ...         False         False   \n",
       "1            0        False      False  ...         False         False   \n",
       "2            0        False      False  ...         False         False   \n",
       "3            0        False      False  ...         False         False   \n",
       "4            0        False      False  ...         False         False   \n",
       "\n",
       "   Serial_B1050  Serial_B1051  Serial_B1054  Serial_B1056  Serial_B1058  \\\n",
       "0         False         False         False         False         False   \n",
       "1         False         False         False         False         False   \n",
       "2         False         False         False         False         False   \n",
       "3         False         False         False         False         False   \n",
       "4         False         False         False         False         False   \n",
       "\n",
       "   Serial_B1059  Serial_B1060  Serial_B1062  \n",
       "0         False         False         False  \n",
       "1         False         False         False  \n",
       "2         False         False         False  \n",
       "3         False         False         False  \n",
       "4         False         False         False  \n",
       "\n",
       "[5 rows x 80 columns]"
      ]
     },
     "execution_count": 45,
     "metadata": {},
     "output_type": "execute_result"
    }
   ],
   "source": [
    "# HINT: Use get_dummies() function on the categorical columns\n",
    "features_one_hot = pd.get_dummies(features, columns=['Orbit', 'LaunchSite', 'LandingPad', 'Serial'])\n",
    "features_one_hot.head()\n"
   ]
  },
  {
   "cell_type": "markdown",
   "id": "544453c8-0a39-453d-81ff-5d200f340a6e",
   "metadata": {},
   "source": [
    "### TASK  8: Cast all numeric columns to `float64`\n"
   ]
  },
  {
   "cell_type": "markdown",
   "id": "43150de6-a7a3-4e27-8272-d9c0b5c36ddd",
   "metadata": {},
   "source": [
    "Now that our <code>features_one_hot</code> dataframe only contains numbers cast the entire dataframe to variable type <code>float64</code>\n"
   ]
  },
  {
   "cell_type": "code",
   "execution_count": 47,
   "id": "55d394a0-fd5a-4bc6-8390-ffd1011f3bc6",
   "metadata": {},
   "outputs": [
    {
     "data": {
      "application/vnd.microsoft.datawrangler.viewer.v0+json": {
       "columns": [
        {
         "name": "index",
         "rawType": "int64",
         "type": "integer"
        },
        {
         "name": "FlightNumber",
         "rawType": "float64",
         "type": "float"
        },
        {
         "name": "PayloadMass",
         "rawType": "float64",
         "type": "float"
        },
        {
         "name": "Flights",
         "rawType": "float64",
         "type": "float"
        },
        {
         "name": "GridFins",
         "rawType": "float64",
         "type": "float"
        },
        {
         "name": "Reused",
         "rawType": "float64",
         "type": "float"
        },
        {
         "name": "Legs",
         "rawType": "float64",
         "type": "float"
        },
        {
         "name": "Block",
         "rawType": "float64",
         "type": "float"
        },
        {
         "name": "ReusedCount",
         "rawType": "float64",
         "type": "float"
        },
        {
         "name": "Orbit_ES-L1",
         "rawType": "float64",
         "type": "float"
        },
        {
         "name": "Orbit_GEO",
         "rawType": "float64",
         "type": "float"
        },
        {
         "name": "Orbit_GTO",
         "rawType": "float64",
         "type": "float"
        },
        {
         "name": "Orbit_HEO",
         "rawType": "float64",
         "type": "float"
        },
        {
         "name": "Orbit_ISS",
         "rawType": "float64",
         "type": "float"
        },
        {
         "name": "Orbit_LEO",
         "rawType": "float64",
         "type": "float"
        },
        {
         "name": "Orbit_MEO",
         "rawType": "float64",
         "type": "float"
        },
        {
         "name": "Orbit_PO",
         "rawType": "float64",
         "type": "float"
        },
        {
         "name": "Orbit_SO",
         "rawType": "float64",
         "type": "float"
        },
        {
         "name": "Orbit_SSO",
         "rawType": "float64",
         "type": "float"
        },
        {
         "name": "Orbit_VLEO",
         "rawType": "float64",
         "type": "float"
        },
        {
         "name": "LaunchSite_CCAFS SLC 40",
         "rawType": "float64",
         "type": "float"
        },
        {
         "name": "LaunchSite_KSC LC 39A",
         "rawType": "float64",
         "type": "float"
        },
        {
         "name": "LaunchSite_VAFB SLC 4E",
         "rawType": "float64",
         "type": "float"
        },
        {
         "name": "LandingPad_5e9e3032383ecb267a34e7c7",
         "rawType": "float64",
         "type": "float"
        },
        {
         "name": "LandingPad_5e9e3032383ecb554034e7c9",
         "rawType": "float64",
         "type": "float"
        },
        {
         "name": "LandingPad_5e9e3032383ecb6bb234e7ca",
         "rawType": "float64",
         "type": "float"
        },
        {
         "name": "LandingPad_5e9e3032383ecb761634e7cb",
         "rawType": "float64",
         "type": "float"
        },
        {
         "name": "LandingPad_5e9e3033383ecbb9e534e7cc",
         "rawType": "float64",
         "type": "float"
        },
        {
         "name": "Serial_B0003",
         "rawType": "float64",
         "type": "float"
        },
        {
         "name": "Serial_B0005",
         "rawType": "float64",
         "type": "float"
        },
        {
         "name": "Serial_B0007",
         "rawType": "float64",
         "type": "float"
        },
        {
         "name": "Serial_B1003",
         "rawType": "float64",
         "type": "float"
        },
        {
         "name": "Serial_B1004",
         "rawType": "float64",
         "type": "float"
        },
        {
         "name": "Serial_B1005",
         "rawType": "float64",
         "type": "float"
        },
        {
         "name": "Serial_B1006",
         "rawType": "float64",
         "type": "float"
        },
        {
         "name": "Serial_B1007",
         "rawType": "float64",
         "type": "float"
        },
        {
         "name": "Serial_B1008",
         "rawType": "float64",
         "type": "float"
        },
        {
         "name": "Serial_B1010",
         "rawType": "float64",
         "type": "float"
        },
        {
         "name": "Serial_B1011",
         "rawType": "float64",
         "type": "float"
        },
        {
         "name": "Serial_B1012",
         "rawType": "float64",
         "type": "float"
        },
        {
         "name": "Serial_B1013",
         "rawType": "float64",
         "type": "float"
        },
        {
         "name": "Serial_B1015",
         "rawType": "float64",
         "type": "float"
        },
        {
         "name": "Serial_B1016",
         "rawType": "float64",
         "type": "float"
        },
        {
         "name": "Serial_B1017",
         "rawType": "float64",
         "type": "float"
        },
        {
         "name": "Serial_B1018",
         "rawType": "float64",
         "type": "float"
        },
        {
         "name": "Serial_B1019",
         "rawType": "float64",
         "type": "float"
        },
        {
         "name": "Serial_B1020",
         "rawType": "float64",
         "type": "float"
        },
        {
         "name": "Serial_B1021",
         "rawType": "float64",
         "type": "float"
        },
        {
         "name": "Serial_B1022",
         "rawType": "float64",
         "type": "float"
        },
        {
         "name": "Serial_B1023",
         "rawType": "float64",
         "type": "float"
        },
        {
         "name": "Serial_B1025",
         "rawType": "float64",
         "type": "float"
        },
        {
         "name": "Serial_B1026",
         "rawType": "float64",
         "type": "float"
        },
        {
         "name": "Serial_B1028",
         "rawType": "float64",
         "type": "float"
        },
        {
         "name": "Serial_B1029",
         "rawType": "float64",
         "type": "float"
        },
        {
         "name": "Serial_B1030",
         "rawType": "float64",
         "type": "float"
        },
        {
         "name": "Serial_B1031",
         "rawType": "float64",
         "type": "float"
        },
        {
         "name": "Serial_B1032",
         "rawType": "float64",
         "type": "float"
        },
        {
         "name": "Serial_B1034",
         "rawType": "float64",
         "type": "float"
        },
        {
         "name": "Serial_B1035",
         "rawType": "float64",
         "type": "float"
        },
        {
         "name": "Serial_B1036",
         "rawType": "float64",
         "type": "float"
        },
        {
         "name": "Serial_B1037",
         "rawType": "float64",
         "type": "float"
        },
        {
         "name": "Serial_B1038",
         "rawType": "float64",
         "type": "float"
        },
        {
         "name": "Serial_B1039",
         "rawType": "float64",
         "type": "float"
        },
        {
         "name": "Serial_B1040",
         "rawType": "float64",
         "type": "float"
        },
        {
         "name": "Serial_B1041",
         "rawType": "float64",
         "type": "float"
        },
        {
         "name": "Serial_B1042",
         "rawType": "float64",
         "type": "float"
        },
        {
         "name": "Serial_B1043",
         "rawType": "float64",
         "type": "float"
        },
        {
         "name": "Serial_B1044",
         "rawType": "float64",
         "type": "float"
        },
        {
         "name": "Serial_B1045",
         "rawType": "float64",
         "type": "float"
        },
        {
         "name": "Serial_B1046",
         "rawType": "float64",
         "type": "float"
        },
        {
         "name": "Serial_B1047",
         "rawType": "float64",
         "type": "float"
        },
        {
         "name": "Serial_B1048",
         "rawType": "float64",
         "type": "float"
        },
        {
         "name": "Serial_B1049",
         "rawType": "float64",
         "type": "float"
        },
        {
         "name": "Serial_B1050",
         "rawType": "float64",
         "type": "float"
        },
        {
         "name": "Serial_B1051",
         "rawType": "float64",
         "type": "float"
        },
        {
         "name": "Serial_B1054",
         "rawType": "float64",
         "type": "float"
        },
        {
         "name": "Serial_B1056",
         "rawType": "float64",
         "type": "float"
        },
        {
         "name": "Serial_B1058",
         "rawType": "float64",
         "type": "float"
        },
        {
         "name": "Serial_B1059",
         "rawType": "float64",
         "type": "float"
        },
        {
         "name": "Serial_B1060",
         "rawType": "float64",
         "type": "float"
        },
        {
         "name": "Serial_B1062",
         "rawType": "float64",
         "type": "float"
        }
       ],
       "ref": "689963d7-9863-4141-96e2-c1b306279609",
       "rows": [
        [
         "0",
         "1.0",
         "6104.959411764706",
         "1.0",
         "0.0",
         "0.0",
         "0.0",
         "1.0",
         "0.0",
         "0.0",
         "0.0",
         "0.0",
         "0.0",
         "0.0",
         "1.0",
         "0.0",
         "0.0",
         "0.0",
         "0.0",
         "0.0",
         "1.0",
         "0.0",
         "0.0",
         "0.0",
         "0.0",
         "0.0",
         "0.0",
         "0.0",
         "1.0",
         "0.0",
         "0.0",
         "0.0",
         "0.0",
         "0.0",
         "0.0",
         "0.0",
         "0.0",
         "0.0",
         "0.0",
         "0.0",
         "0.0",
         "0.0",
         "0.0",
         "0.0",
         "0.0",
         "0.0",
         "0.0",
         "0.0",
         "0.0",
         "0.0",
         "0.0",
         "0.0",
         "0.0",
         "0.0",
         "0.0",
         "0.0",
         "0.0",
         "0.0",
         "0.0",
         "0.0",
         "0.0",
         "0.0",
         "0.0",
         "0.0",
         "0.0",
         "0.0",
         "0.0",
         "0.0",
         "0.0",
         "0.0",
         "0.0",
         "0.0",
         "0.0",
         "0.0",
         "0.0",
         "0.0",
         "0.0",
         "0.0",
         "0.0",
         "0.0",
         "0.0"
        ],
        [
         "1",
         "2.0",
         "525.0",
         "1.0",
         "0.0",
         "0.0",
         "0.0",
         "1.0",
         "0.0",
         "0.0",
         "0.0",
         "0.0",
         "0.0",
         "0.0",
         "1.0",
         "0.0",
         "0.0",
         "0.0",
         "0.0",
         "0.0",
         "1.0",
         "0.0",
         "0.0",
         "0.0",
         "0.0",
         "0.0",
         "0.0",
         "0.0",
         "0.0",
         "1.0",
         "0.0",
         "0.0",
         "0.0",
         "0.0",
         "0.0",
         "0.0",
         "0.0",
         "0.0",
         "0.0",
         "0.0",
         "0.0",
         "0.0",
         "0.0",
         "0.0",
         "0.0",
         "0.0",
         "0.0",
         "0.0",
         "0.0",
         "0.0",
         "0.0",
         "0.0",
         "0.0",
         "0.0",
         "0.0",
         "0.0",
         "0.0",
         "0.0",
         "0.0",
         "0.0",
         "0.0",
         "0.0",
         "0.0",
         "0.0",
         "0.0",
         "0.0",
         "0.0",
         "0.0",
         "0.0",
         "0.0",
         "0.0",
         "0.0",
         "0.0",
         "0.0",
         "0.0",
         "0.0",
         "0.0",
         "0.0",
         "0.0",
         "0.0",
         "0.0"
        ],
        [
         "2",
         "3.0",
         "677.0",
         "1.0",
         "0.0",
         "0.0",
         "0.0",
         "1.0",
         "0.0",
         "0.0",
         "0.0",
         "0.0",
         "0.0",
         "1.0",
         "0.0",
         "0.0",
         "0.0",
         "0.0",
         "0.0",
         "0.0",
         "1.0",
         "0.0",
         "0.0",
         "0.0",
         "0.0",
         "0.0",
         "0.0",
         "0.0",
         "0.0",
         "0.0",
         "1.0",
         "0.0",
         "0.0",
         "0.0",
         "0.0",
         "0.0",
         "0.0",
         "0.0",
         "0.0",
         "0.0",
         "0.0",
         "0.0",
         "0.0",
         "0.0",
         "0.0",
         "0.0",
         "0.0",
         "0.0",
         "0.0",
         "0.0",
         "0.0",
         "0.0",
         "0.0",
         "0.0",
         "0.0",
         "0.0",
         "0.0",
         "0.0",
         "0.0",
         "0.0",
         "0.0",
         "0.0",
         "0.0",
         "0.0",
         "0.0",
         "0.0",
         "0.0",
         "0.0",
         "0.0",
         "0.0",
         "0.0",
         "0.0",
         "0.0",
         "0.0",
         "0.0",
         "0.0",
         "0.0",
         "0.0",
         "0.0",
         "0.0",
         "0.0"
        ],
        [
         "3",
         "4.0",
         "500.0",
         "1.0",
         "0.0",
         "0.0",
         "0.0",
         "1.0",
         "0.0",
         "0.0",
         "0.0",
         "0.0",
         "0.0",
         "0.0",
         "0.0",
         "0.0",
         "1.0",
         "0.0",
         "0.0",
         "0.0",
         "0.0",
         "0.0",
         "1.0",
         "0.0",
         "0.0",
         "0.0",
         "0.0",
         "0.0",
         "0.0",
         "0.0",
         "0.0",
         "1.0",
         "0.0",
         "0.0",
         "0.0",
         "0.0",
         "0.0",
         "0.0",
         "0.0",
         "0.0",
         "0.0",
         "0.0",
         "0.0",
         "0.0",
         "0.0",
         "0.0",
         "0.0",
         "0.0",
         "0.0",
         "0.0",
         "0.0",
         "0.0",
         "0.0",
         "0.0",
         "0.0",
         "0.0",
         "0.0",
         "0.0",
         "0.0",
         "0.0",
         "0.0",
         "0.0",
         "0.0",
         "0.0",
         "0.0",
         "0.0",
         "0.0",
         "0.0",
         "0.0",
         "0.0",
         "0.0",
         "0.0",
         "0.0",
         "0.0",
         "0.0",
         "0.0",
         "0.0",
         "0.0",
         "0.0",
         "0.0",
         "0.0"
        ],
        [
         "4",
         "5.0",
         "3170.0",
         "1.0",
         "0.0",
         "0.0",
         "0.0",
         "1.0",
         "0.0",
         "0.0",
         "0.0",
         "1.0",
         "0.0",
         "0.0",
         "0.0",
         "0.0",
         "0.0",
         "0.0",
         "0.0",
         "0.0",
         "1.0",
         "0.0",
         "0.0",
         "0.0",
         "0.0",
         "0.0",
         "0.0",
         "0.0",
         "0.0",
         "0.0",
         "0.0",
         "0.0",
         "1.0",
         "0.0",
         "0.0",
         "0.0",
         "0.0",
         "0.0",
         "0.0",
         "0.0",
         "0.0",
         "0.0",
         "0.0",
         "0.0",
         "0.0",
         "0.0",
         "0.0",
         "0.0",
         "0.0",
         "0.0",
         "0.0",
         "0.0",
         "0.0",
         "0.0",
         "0.0",
         "0.0",
         "0.0",
         "0.0",
         "0.0",
         "0.0",
         "0.0",
         "0.0",
         "0.0",
         "0.0",
         "0.0",
         "0.0",
         "0.0",
         "0.0",
         "0.0",
         "0.0",
         "0.0",
         "0.0",
         "0.0",
         "0.0",
         "0.0",
         "0.0",
         "0.0",
         "0.0",
         "0.0",
         "0.0",
         "0.0"
        ]
       ],
       "shape": {
        "columns": 80,
        "rows": 5
       }
      },
      "text/html": [
       "<div>\n",
       "<style scoped>\n",
       "    .dataframe tbody tr th:only-of-type {\n",
       "        vertical-align: middle;\n",
       "    }\n",
       "\n",
       "    .dataframe tbody tr th {\n",
       "        vertical-align: top;\n",
       "    }\n",
       "\n",
       "    .dataframe thead th {\n",
       "        text-align: right;\n",
       "    }\n",
       "</style>\n",
       "<table border=\"1\" class=\"dataframe\">\n",
       "  <thead>\n",
       "    <tr style=\"text-align: right;\">\n",
       "      <th></th>\n",
       "      <th>FlightNumber</th>\n",
       "      <th>PayloadMass</th>\n",
       "      <th>Flights</th>\n",
       "      <th>GridFins</th>\n",
       "      <th>Reused</th>\n",
       "      <th>Legs</th>\n",
       "      <th>Block</th>\n",
       "      <th>ReusedCount</th>\n",
       "      <th>Orbit_ES-L1</th>\n",
       "      <th>Orbit_GEO</th>\n",
       "      <th>...</th>\n",
       "      <th>Serial_B1048</th>\n",
       "      <th>Serial_B1049</th>\n",
       "      <th>Serial_B1050</th>\n",
       "      <th>Serial_B1051</th>\n",
       "      <th>Serial_B1054</th>\n",
       "      <th>Serial_B1056</th>\n",
       "      <th>Serial_B1058</th>\n",
       "      <th>Serial_B1059</th>\n",
       "      <th>Serial_B1060</th>\n",
       "      <th>Serial_B1062</th>\n",
       "    </tr>\n",
       "  </thead>\n",
       "  <tbody>\n",
       "    <tr>\n",
       "      <th>0</th>\n",
       "      <td>1.0</td>\n",
       "      <td>6104.959412</td>\n",
       "      <td>1.0</td>\n",
       "      <td>0.0</td>\n",
       "      <td>0.0</td>\n",
       "      <td>0.0</td>\n",
       "      <td>1.0</td>\n",
       "      <td>0.0</td>\n",
       "      <td>0.0</td>\n",
       "      <td>0.0</td>\n",
       "      <td>...</td>\n",
       "      <td>0.0</td>\n",
       "      <td>0.0</td>\n",
       "      <td>0.0</td>\n",
       "      <td>0.0</td>\n",
       "      <td>0.0</td>\n",
       "      <td>0.0</td>\n",
       "      <td>0.0</td>\n",
       "      <td>0.0</td>\n",
       "      <td>0.0</td>\n",
       "      <td>0.0</td>\n",
       "    </tr>\n",
       "    <tr>\n",
       "      <th>1</th>\n",
       "      <td>2.0</td>\n",
       "      <td>525.000000</td>\n",
       "      <td>1.0</td>\n",
       "      <td>0.0</td>\n",
       "      <td>0.0</td>\n",
       "      <td>0.0</td>\n",
       "      <td>1.0</td>\n",
       "      <td>0.0</td>\n",
       "      <td>0.0</td>\n",
       "      <td>0.0</td>\n",
       "      <td>...</td>\n",
       "      <td>0.0</td>\n",
       "      <td>0.0</td>\n",
       "      <td>0.0</td>\n",
       "      <td>0.0</td>\n",
       "      <td>0.0</td>\n",
       "      <td>0.0</td>\n",
       "      <td>0.0</td>\n",
       "      <td>0.0</td>\n",
       "      <td>0.0</td>\n",
       "      <td>0.0</td>\n",
       "    </tr>\n",
       "    <tr>\n",
       "      <th>2</th>\n",
       "      <td>3.0</td>\n",
       "      <td>677.000000</td>\n",
       "      <td>1.0</td>\n",
       "      <td>0.0</td>\n",
       "      <td>0.0</td>\n",
       "      <td>0.0</td>\n",
       "      <td>1.0</td>\n",
       "      <td>0.0</td>\n",
       "      <td>0.0</td>\n",
       "      <td>0.0</td>\n",
       "      <td>...</td>\n",
       "      <td>0.0</td>\n",
       "      <td>0.0</td>\n",
       "      <td>0.0</td>\n",
       "      <td>0.0</td>\n",
       "      <td>0.0</td>\n",
       "      <td>0.0</td>\n",
       "      <td>0.0</td>\n",
       "      <td>0.0</td>\n",
       "      <td>0.0</td>\n",
       "      <td>0.0</td>\n",
       "    </tr>\n",
       "    <tr>\n",
       "      <th>3</th>\n",
       "      <td>4.0</td>\n",
       "      <td>500.000000</td>\n",
       "      <td>1.0</td>\n",
       "      <td>0.0</td>\n",
       "      <td>0.0</td>\n",
       "      <td>0.0</td>\n",
       "      <td>1.0</td>\n",
       "      <td>0.0</td>\n",
       "      <td>0.0</td>\n",
       "      <td>0.0</td>\n",
       "      <td>...</td>\n",
       "      <td>0.0</td>\n",
       "      <td>0.0</td>\n",
       "      <td>0.0</td>\n",
       "      <td>0.0</td>\n",
       "      <td>0.0</td>\n",
       "      <td>0.0</td>\n",
       "      <td>0.0</td>\n",
       "      <td>0.0</td>\n",
       "      <td>0.0</td>\n",
       "      <td>0.0</td>\n",
       "    </tr>\n",
       "    <tr>\n",
       "      <th>4</th>\n",
       "      <td>5.0</td>\n",
       "      <td>3170.000000</td>\n",
       "      <td>1.0</td>\n",
       "      <td>0.0</td>\n",
       "      <td>0.0</td>\n",
       "      <td>0.0</td>\n",
       "      <td>1.0</td>\n",
       "      <td>0.0</td>\n",
       "      <td>0.0</td>\n",
       "      <td>0.0</td>\n",
       "      <td>...</td>\n",
       "      <td>0.0</td>\n",
       "      <td>0.0</td>\n",
       "      <td>0.0</td>\n",
       "      <td>0.0</td>\n",
       "      <td>0.0</td>\n",
       "      <td>0.0</td>\n",
       "      <td>0.0</td>\n",
       "      <td>0.0</td>\n",
       "      <td>0.0</td>\n",
       "      <td>0.0</td>\n",
       "    </tr>\n",
       "  </tbody>\n",
       "</table>\n",
       "<p>5 rows × 80 columns</p>\n",
       "</div>"
      ],
      "text/plain": [
       "   FlightNumber  PayloadMass  Flights  GridFins  Reused  Legs  Block  \\\n",
       "0           1.0  6104.959412      1.0       0.0     0.0   0.0    1.0   \n",
       "1           2.0   525.000000      1.0       0.0     0.0   0.0    1.0   \n",
       "2           3.0   677.000000      1.0       0.0     0.0   0.0    1.0   \n",
       "3           4.0   500.000000      1.0       0.0     0.0   0.0    1.0   \n",
       "4           5.0  3170.000000      1.0       0.0     0.0   0.0    1.0   \n",
       "\n",
       "   ReusedCount  Orbit_ES-L1  Orbit_GEO  ...  Serial_B1048  Serial_B1049  \\\n",
       "0          0.0          0.0        0.0  ...           0.0           0.0   \n",
       "1          0.0          0.0        0.0  ...           0.0           0.0   \n",
       "2          0.0          0.0        0.0  ...           0.0           0.0   \n",
       "3          0.0          0.0        0.0  ...           0.0           0.0   \n",
       "4          0.0          0.0        0.0  ...           0.0           0.0   \n",
       "\n",
       "   Serial_B1050  Serial_B1051  Serial_B1054  Serial_B1056  Serial_B1058  \\\n",
       "0           0.0           0.0           0.0           0.0           0.0   \n",
       "1           0.0           0.0           0.0           0.0           0.0   \n",
       "2           0.0           0.0           0.0           0.0           0.0   \n",
       "3           0.0           0.0           0.0           0.0           0.0   \n",
       "4           0.0           0.0           0.0           0.0           0.0   \n",
       "\n",
       "   Serial_B1059  Serial_B1060  Serial_B1062  \n",
       "0           0.0           0.0           0.0  \n",
       "1           0.0           0.0           0.0  \n",
       "2           0.0           0.0           0.0  \n",
       "3           0.0           0.0           0.0  \n",
       "4           0.0           0.0           0.0  \n",
       "\n",
       "[5 rows x 80 columns]"
      ]
     },
     "execution_count": 47,
     "metadata": {},
     "output_type": "execute_result"
    }
   ],
   "source": [
    "# HINT: use astype function\n",
    "features_one_hot = features_one_hot.astype(float)\n",
    "features_one_hot.head()"
   ]
  },
  {
   "cell_type": "markdown",
   "id": "df2bfc37-c3c3-4ca7-8f28-49d759ffdbf9",
   "metadata": {},
   "source": [
    "We can now export it to a <b>CSV</b> for the next section,but to make the answers consistent, in the next lab we will provide data in a pre-selected date range. \n"
   ]
  },
  {
   "cell_type": "markdown",
   "id": "b2408b17-2f63-4b30-a88c-90b836e60bd7",
   "metadata": {},
   "source": [
    "<code>features_one_hot.to_csv('dataset_part_3.csv', index=False)</code>\n"
   ]
  },
  {
   "cell_type": "markdown",
   "id": "ae42cc34-84ca-4c5c-a7e4-98595192ce41",
   "metadata": {},
   "source": [
    "## Authors\n"
   ]
  },
  {
   "cell_type": "markdown",
   "id": "6f820a78-0a8b-4026-9135-53d6620e8bb1",
   "metadata": {},
   "source": [
    "<a href=\"https://www.linkedin.com/in/joseph-s-50398b136/\">Joseph Santarcangelo</a> has a PhD in Electrical Engineering, his research focused on using machine learning, signal processing, and computer vision to determine how videos impact human cognition. Joseph has been working for IBM since he completed his PhD.\n"
   ]
  },
  {
   "cell_type": "markdown",
   "id": "008e1714-6796-4d18-a374-37d95da69d08",
   "metadata": {},
   "source": [
    "<a href=\"https://www.linkedin.com/in/nayefaboutayoun/\">Nayef Abou Tayoun</a> is a Data Scientist at IBM and pursuing a Master of Management in Artificial intelligence degree at Queen's University.\n"
   ]
  },
  {
   "cell_type": "markdown",
   "id": "a8e33a85-f597-486b-9a12-121f3e4c638c",
   "metadata": {},
   "source": [
    "## Change Log\n"
   ]
  },
  {
   "cell_type": "markdown",
   "id": "070e4a14-5e86-4589-9806-94ef6a3d0af5",
   "metadata": {},
   "source": [
    "| Date (YYYY-MM-DD) | Version | Changed By | Change Description      |\n",
    "| ----------------- | ------- | ---------- | ----------------------- |\n",
    "| 2021-10-12        | 1.1     | Lakshmi Holla     | Modified markdown |\n",
    "| 2020-09-20        | 1.0     | Joseph     | Modified Multiple Areas |\n",
    "| 2020-11-10       | 1.1    | Nayef      | updating the input data |\n"
   ]
  },
  {
   "cell_type": "markdown",
   "id": "53c31032-2c0f-4c4f-9677-5de2a812435d",
   "metadata": {},
   "source": [
    "Copyright © 2020 IBM Corporation. All rights reserved.\n"
   ]
  }
 ],
 "metadata": {
  "kernelspec": {
   "display_name": "spacex_coursera.venv (3.13.7)",
   "language": "python",
   "name": "python3"
  },
  "language_info": {
   "codemirror_mode": {
    "name": "ipython",
    "version": 3
   },
   "file_extension": ".py",
   "mimetype": "text/x-python",
   "name": "python",
   "nbconvert_exporter": "python",
   "pygments_lexer": "ipython3",
   "version": "3.13.7"
  },
  "prev_pub_hash": "3a3602cc85d9beea0478162bb00a6eb29e1929228a736aaea12ea6a5c9962e64"
 },
 "nbformat": 4,
 "nbformat_minor": 4
}
